{
 "cells": [
  {
   "cell_type": "code",
   "execution_count": null,
   "id": "23391166-22df-4b1d-b93e-f759fa2bd4cf",
   "metadata": {},
   "outputs": [],
   "source": [
    "disc|rew|loss|kl\n",
    "1636906391.9629617\n",
    "1636835400.944724"
   ]
  },
  {
   "cell_type": "code",
   "execution_count": null,
   "id": "83880ae0-25bf-486e-89b3-1d380f2c92a0",
   "metadata": {},
   "outputs": [],
   "source": [
    "%reload_ext tensorboard\n",
    "%tensorboard --logdir ./logs_finetune"
   ]
  },
  {
   "cell_type": "code",
   "execution_count": null,
   "id": "d6d8befa-2c37-48d5-ac96-49da3ae2c6d5",
   "metadata": {
    "tags": []
   },
   "outputs": [],
   "source": [
    "%reload_ext tensorboard\n",
    "%tensorboard --logdir ./logs_finetune"
   ]
  },
  {
   "cell_type": "code",
   "execution_count": null,
   "id": "259df913-be8c-490f-8e76-6b0f2b7af407",
   "metadata": {},
   "outputs": [],
   "source": []
  }
 ],
 "metadata": {
  "environment": {
   "kernel": "python3",
   "name": "pytorch-gpu.1-10.m83",
   "type": "gcloud",
   "uri": "gcr.io/deeplearning-platform-release/pytorch-gpu.1-10:m83"
  },
  "kernelspec": {
   "display_name": "Python 3",
   "language": "python",
   "name": "python3"
  },
  "language_info": {
   "codemirror_mode": {
    "name": "ipython",
    "version": 3
   },
   "file_extension": ".py",
   "mimetype": "text/x-python",
   "name": "python",
   "nbconvert_exporter": "python",
   "pygments_lexer": "ipython3",
   "version": "3.7.12"
  }
 },
 "nbformat": 4,
 "nbformat_minor": 5
}
