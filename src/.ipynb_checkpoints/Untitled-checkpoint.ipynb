{
 "cells": [],
 "metadata": {
  "environment": {
   "name": "pytorch-gpu.1-9.m81",
   "type": "gcloud",
   "uri": "gcr.io/deeplearning-platform-release/pytorch-gpu.1-9:m81"
  }
 },
 "nbformat": 4,
 "nbformat_minor": 5
}
